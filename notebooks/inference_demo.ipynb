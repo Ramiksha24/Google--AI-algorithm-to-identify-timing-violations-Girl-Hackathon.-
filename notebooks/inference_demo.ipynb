{
 "cells": [
  {
   "cell_type": "markdown",
   "metadata": {},
   "source": [
    "# Combinational Logic Depth Prediction\n",
    "\n",
    "## Inference Demonstration"
   ]
  },
  {
   "cell_type": "code",
   "execution_count": null,
   "metadata": {},
   "outputs": [],
   "source": [
    "# Import the prediction function\n",
    "from src.model_inference import predict_combinational_depth\n",
    "\n",
    "# Example ALU RTL\n",
    "alu_rtl = \"\"\"\n",
    "module alu_32bit (\n",
    "    input [31:0] a,\n",
    "    input [31:0] b,\n",
    "    input [3:0] op,\n",
    "    output reg [31:0] result,\n",
    "    output reg overflow\n",
    ");\n",
    "    always @(*) begin\n",
    "        case(op)\n",
    "            4'b0000: result = a + b;\n",
    "            4'b0001: result = a - b;\n",
    "            4'b0010: result = a & b;\n",
    "            4'b0011: result = a | b;\n",
    "            4'b0100: result = a ^ b;\n",
    "            4'b0101: result = ~a;\n",
    "            4'b0110: result = a << b[4:0];\n",
    "            4'b0111: result = a >> b[4:0];\n",
    "            default: result = 32'h0;\n",
    "        endcase\n",
    "        \n",
    "        overflow = (op == 4'b0000 && (a[31] == b[31]) && (result[31] != a[31])) || \n",
    "                  (op == 4'b0001 && (a[31] != b[31]) && (result[31] != a[31]));\n",
    "    end\n",
    "endmodule\n",
    "\"\"\"\n",
    "\n",
    "# Predict combinational depth\n",
    "result_depth = predict_combinational_depth(alu_rtl, 'result')\n",
    "overflow_depth = predict_combinational_depth(alu_rtl, 'overflow')\n",
    "\n",
    "print(f\"Predicted combinational depth for 'result' signal: {result_depth:.2f}\")\n",
    "print(f\"Predicted combinational depth for 'overflow' signal: {overflow_depth:.2f}\")"
   ]
  }
 ],
 "metadata": {
  "kernelspec": {
   "display_name": "Python 3",
   "language": "python",
   "name": "python3"
  }
 },
 "nbformat": 4,
 "nbformat_minor": 2
}
