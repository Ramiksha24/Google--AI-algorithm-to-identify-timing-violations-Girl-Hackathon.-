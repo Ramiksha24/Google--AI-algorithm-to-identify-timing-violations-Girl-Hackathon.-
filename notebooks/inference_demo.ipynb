# Combinational Logic Depth Prediction

## Inference Demonstration

# Import the prediction function
from src.model_inference import predict_combinational_depth

# Example ALU RTL
alu_rtl = """
module alu_32bit (
    input [31:0] a,
    input [31:0] b,
    input [3:0] op,
    output reg [31:0] result,
    output reg overflow
);
    always @(*) begin
        case(op)
            4'b0000: result = a + b;
            4'b0001: result = a - b;
            4'b0010: result = a & b;
            4'b0011: result = a | b;
            4'b0100: result = a ^ b;
            4'b0101: result = ~a;
            4'b0110: result = a << b[4:0];
            4'b0111: result = a >> b[4:0];
            default: result = 32'h0;
        endcase
        
        overflow = (op == 4'b0000 && (a[31] == b[31]) && (result[31] != a[31])) || 
                  (op == 4'b0001 && (a[31] != b[31]) && (result[31] != a[31]));
    end
endmodule
"""

# Predict combinational depth
result_depth = predict_combinational_depth(alu_rtl, 'result')
overflow_depth = predict_combinational_depth(alu_rtl, 'overflow')

# Display the results
print(f"Predicted combinational depth for 'result' signal: {result_depth:.2f}")
print(f"Predicted combinational depth for 'overflow' signal: {overflow_depth:.2f}")
